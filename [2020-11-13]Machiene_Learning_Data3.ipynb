{
 "cells": [
  {
   "cell_type": "code",
   "execution_count": 1,
   "metadata": {},
   "outputs": [],
   "source": [
    "import pandas as pd\n",
    "import numpy as np\n",
    "import warnings\n",
    "warnings.filterwarnings(\"ignore\")\n",
    "import os\n",
    "import pathlib"
   ]
  },
  {
   "cell_type": "code",
   "execution_count": 2,
   "metadata": {},
   "outputs": [],
   "source": [
    "path=\"C:/Users/hendr/Documents/UNI_Köln/\""
   ]
  },
  {
   "cell_type": "code",
   "execution_count": 3,
   "metadata": {},
   "outputs": [
    {
     "name": "stdout",
     "output_type": "stream",
     "text": [
      "Warning: column count mismatch (64 + 247 != 536)\n",
      "\n"
     ]
    }
   ],
   "source": [
    "df1 = pd.read_sas(path+'WVS_CrossNat_w7_v1_4.sas7bdat')\n",
    "\n",
    "df1_cat=df1.select_dtypes(exclude=\"number\")\n",
    "df1_num=df1.select_dtypes(include=\"number\")"
   ]
  },
  {
   "cell_type": "code",
   "execution_count": 4,
   "metadata": {},
   "outputs": [],
   "source": [
    "for c in df1_cat.columns: \n",
    "    df1[c]=df1[c].map(lambda x: str(x)[2:-1])"
   ]
  },
  {
   "cell_type": "code",
   "execution_count": 5,
   "metadata": {},
   "outputs": [],
   "source": [
    "Partyname_dict={'': np.nan,\n",
    "'Don\\\\xc2\\\\xb4t know': 'Do not know',\n",
    "'I would cast a blank ballot; White vote':'I would cast a blank ballot: White vote',\n",
    "'Alternative for Germany\\\\xc2\\\\xa0':'Alternative for Germany',\n",
    "'Free Democratic Party\\\\xc2\\\\xa0':'Free Democratic Party',\n",
    "'Constitutional Democratic Party of Japan\\\\xc2\\\\xa0':'Constitutional Democratic Party of Japan',\n",
    "'Komeit\\\\xc5\\\\x8d':'Komeit',\n",
    "'Civic Watch (C\\\\xc3\\\\xadvico) \\\\xe5\\\\x85\\\\xac\\\\xe6\\\\xb0\\\\x91\\\\xe7\\\\x9b\\\\xa3\\\\xe5\\\\xaf\\\\x9f\\\\xef\\\\xbc\\\\x88\\\\xe4\\\\xb8\\\\xbb\\\\xe8\\\\xa6\\\\x81\\\\xe5\\\\x80\\\\x99\\\\xe9\\\\x81\\\\xb8\\\\xe4\\\\xba\\\\xba\\\\xef\\\\xbc\\\\x9a\\\\xe6\\\\x9e\\\\x97\\\\xe7\\\\x8e\\\\x89\\\\xe9\\\\xb3\\\\xb3\\\\xef\\\\xbc\\\\x89': 'Civic Watch',\n",
    "'New Hope (NE) \\\\xe6\\\\x96\\\\xb0\\\\xe5\\\\xb8\\\\x8c\\\\xe6\\\\x9c\\\\x9b\\\\xef\\\\xbc\\\\x88\\\\xe4\\\\xb8\\\\xbb\\\\xe8\\\\xa6\\\\x81\\\\xe5\\\\x80\\\\x99\\\\xe9\\\\x81\\\\xb8\\\\xe4\\\\xba\\\\xba\\\\xef\\\\xbc\\\\x9a\\\\xe9\\\\xab\\\\x98\\\\xe5\\\\xa4\\\\xa9\\\\xe8\\\\xb3\\\\x9c\\\\xef\\\\xbc\\\\x89': 'New Hope (NE)',\n",
    "\"Macau United Citizens' Association (ACUM) \\\\xe6\\\\xbe\\\\xb3\\\\xe9\\\\x96\\\\x80\\\\xe6\\\\xb0\\\\x91\\\\xe8\\\\x81\\\\xaf\\\\xe5\\\\x8d\\\\x94\\\\xe9\\\\x80\\\\xb2\\\\xe6\\\\x9c\\\\x83\\\\xef\\\\xbc\\\\x88\\\\xe4\\\\xb8\\\\xbb\\\\xe8\\\\xa6\\\\x81\\\\xe5\\\\x80\\\\x99\\\\xe9\\\\x81\\\\xb8\\\\xe4\\\\xba\\\\xba\\\\xef\\\\xbc\\\\x9a\\\\xe6\\\\x96\\\\xbd\\\\xe5\\\\xae\\\\xb6\": 'Macau United Citizens Association (ACUM)',\n",
    "'Macau-Guangdong Union \\\\xe6\\\\xbe\\\\xb3\\\\xe7\\\\xb2\\\\xb5\\\\xe5\\\\x90\\\\x8c\\\\xe7\\\\x9b\\\\x9f\\\\xef\\\\xbc\\\\x88\\\\xe4\\\\xb8\\\\xbb\\\\xe8\\\\xa6\\\\x81\\\\xe5\\\\x80\\\\x99\\\\xe9\\\\x81\\\\xb8\\\\xe4\\\\xba\\\\xba\\\\xef\\\\xbc\\\\x9a\\\\xe9\\\\xba\\\\xa5\\\\xe7\\\\x91\\\\x9e\\\\xe6\\\\xac\\\\x8a\\\\xef\\\\xbc\\\\x89': 'Macau-Guangdong Union',\n",
    "'Democratic Prosperous Macau Association (APMD) \\\\xe6\\\\xb0\\\\x91\\\\xe4\\\\xb8\\\\xbb\\\\xe6\\\\x98\\\\x8c\\\\xe6\\\\xbe\\\\xb3\\\\xe9\\\\x96\\\\x80\\\\xef\\\\xbc\\\\x88\\\\xe4\\\\xb8\\\\xbb\\\\xe8\\\\xa6\\\\x81\\\\xe5\\\\x80\\\\x99\\\\xe9\\\\x81\\\\xb8\\\\xe4\\\\xba\\\\xba\\\\xef\\\\xbc\\\\x9a\\\\xe5\\\\x90\\\\xb3\\\\xe5\\\\x9c\\\\x8b':'Democratic Prosperous Macau Association (APMD)',\n",
    "'New Democratic Macau Association (ANMD) \\\\xe6\\\\xb0\\\\x91\\\\xe4\\\\xb8\\\\xbb\\\\xe6\\\\x96\\\\xb0\\\\xe5\\\\x8b\\\\x95\\\\xe5\\\\x8a\\\\x9b\\\\xef\\\\xbc\\\\x88\\\\xe4\\\\xb8\\\\xbb\\\\xe8\\\\xa6\\\\x81\\\\xe5\\\\x80\\\\x99\\\\xe9\\\\x81\\\\xb8\\\\xe4\\\\xba\\\\xba\\\\xef\\\\xbc\\\\x9a\\\\xe5\\\\x8d\\\\x80\\\\xe9\\\\x8c\\\\xa6\\\\xe6\\\\x96\\\\xb0\\\\xef\\\\xbc\\\\x89':'New Democratic Macau Association (ANMD)',\n",
    "'United Citizens for Building Macau Association (ACUCM) \\\\xe5\\\\x85\\\\xac\\\\xe6\\\\xb0\\\\x91\\\\xe4\\\\xb8\\\\x80\\\\xe5\\\\xbf\\\\x83\\\\xe5\\\\xbb\\\\xba\\\\xe6\\\\xbe\\\\xb3\\\\xe4\\\\xbf\\\\x83\\\\xe9\\\\x80\\\\xb2\\\\xe6\\\\x9c\\\\x83\\\\xef\\\\xbc\\\\x88\\\\xe4\\\\xb8\\\\xbb\\\\xe8\\\\xa6\\\\x81':'United Citizens for Building Macau Association (ACUCM)',\n",
    "'Mutual Help Grassroots (Grassroots)  \\\\xe5\\\\x9f\\\\xba\\\\xe5\\\\xb1\\\\xa4\\\\xe4\\\\xba\\\\x92\\\\xe5\\\\x8a\\\\xa9\\\\xef\\\\xbc\\\\x88\\\\xe4\\\\xb8\\\\xbb\\\\xe8\\\\xa6\\\\x81\\\\xe5\\\\x80\\\\x99\\\\xe9\\\\x81\\\\xb8\\\\xe4\\\\xba\\\\xba\\\\xef\\\\xbc\\\\x9a\\\\xe9\\\\xbb\\\\x83\\\\xe5\\\\x81\\\\x89\\\\xe6\\\\xb0\\\\x91\\\\xef\\\\xbc\\\\x89':'Mutual Help Grassroots (Grassroots)',\n",
    "'New Macau Development Union \\\\xe6\\\\xbe\\\\xb3\\\\xe9\\\\x96\\\\x80\\\\xe7\\\\x99\\\\xbc\\\\xe5\\\\xb1\\\\x95\\\\xe6\\\\x96\\\\xb0\\\\xe9\\\\x80\\\\xa3\\\\xe7\\\\x9b\\\\x9f\\\\xef\\\\xbc\\\\x88\\\\xe4\\\\xb8\\\\xbb\\\\xe8\\\\xa6\\\\x81\\\\xe5\\\\x80\\\\x99\\\\xe9\\\\x81\\\\xb8\\\\xe4\\\\xba\\\\xba\\\\xef\\\\xbc\\\\x9a\\\\xe6\\\\xa2\\\\x81\\\\xe5\\\\xae\\\\x89\\\\xe7\\\\x90\\\\xaa\\\\xef\\\\xbc\\\\x89': 'New Macau Development Union',\n",
    "'Front Line of Casino Workers (LFTC) \\\\xe5\\\\x8d\\\\x9a\\\\xe5\\\\xbd\\\\xa9\\\\xe5\\\\x93\\\\xa1\\\\xe5\\\\xb7\\\\xa5\\\\xe6\\\\x9c\\\\x80\\\\xe5\\\\x89\\\\x8d\\\\xe7\\\\xb7\\\\x9a\\\\xef\\\\xbc\\\\x88\\\\xe4\\\\xb8\\\\xbb\\\\xe8\\\\xa6\\\\x81\\\\xe5\\\\x80\\\\x99\\\\xe9\\\\x81\\\\xb8\\\\xe4\\\\xba\\\\xba\\\\xef\\\\xbc\\\\x9a\\\\xe5\\\\x91\\\\xa8\\\\xe9\\\\x8a\\\\xb9\\\\xe8\\\\x8a\\\\xb3\\\\xef\\\\xbc\\\\x89': 'Front Line of Casino Workers (LFTC)',\n",
    "'New Macau Progressives (ANPM) \\\\xe5\\\\xad\\\\xb8\\\\xe7\\\\xa4\\\\xbe\\\\xe5\\\\x89\\\\x8d\\\\xe9\\\\x80\\\\xb2\\\\xef\\\\xbc\\\\x88\\\\xe4\\\\xb8\\\\xbb\\\\xe8\\\\xa6\\\\x81\\\\xe5\\\\x80\\\\x99\\\\xe9\\\\x81\\\\xb8\\\\xe4\\\\xba\\\\xba\\\\xef\\\\xbc\\\\x9a\\\\xe8\\\\x98\\\\x87\\\\xe5\\\\x98\\\\x89\\\\xe8\\\\xb1\\\\xaa\\\\xef\\\\xbc\\\\x89':'New Macau Progressives (ANPM)',\n",
    "'Progress Promotion Union (UPP) \\\\xe7\\\\xbe\\\\xa4\\\\xe5\\\\x8a\\\\x9b\\\\xe4\\\\xbf\\\\x83\\\\xe9\\\\x80\\\\xb2\\\\xe6\\\\x9c\\\\x83\\\\xef\\\\xbc\\\\x88\\\\xe4\\\\xb8\\\\xbb\\\\xe8\\\\xa6\\\\x81\\\\xe5\\\\x80\\\\x99\\\\xe9\\\\x81\\\\xb8\\\\xe4\\\\xba\\\\xba\\\\xef\\\\xbc\\\\x9a\\\\xe4\\\\xbd\\\\x95\\\\xe6\\\\xbd\\\\xa4\\\\xe7\\\\x94\\\\x9f\\\\xef\\\\xbc\\\\x89':'Progress Promotion Union (UPP)',    \n",
    "'Alliance for Change\\\\xc2\\\\xa0\\\\xe6\\\\x94\\\\xb9\\\\xe9\\\\x9d\\\\xa9\\\\xe5\\\\x89\\\\xb5\\\\xe6\\\\x96\\\\xb0\\\\xe8\\\\x81\\\\xaf\\\\xe7\\\\x9b\\\\x9f\\\\xef\\\\xbc\\\\x88\\\\xe4\\\\xb8\\\\xbb\\\\xe8\\\\xa6\\\\x81\\\\xe5\\\\x80\\\\x99\\\\xe9\\\\x81\\\\xb8\\\\xe4\\\\xba\\\\xba\\\\xef\\\\xbc\\\\x9a\\\\xe9\\\\x99\\\\xb3\\\\xe7\\\\xbe\\\\x8e\\\\xe5\\\\x84\\\\x80\\\\xef\\\\xbc\\\\x89': 'Alliance for Change',\n",
    "'Macau Citizens\\\\xe2\\\\x80\\\\x99 Development Association (ACDM) \\\\xe6\\\\xbe\\\\xb3\\\\xe9\\\\x96\\\\x80\\\\xe6\\\\xb0\\\\x91\\\\xe4\\\\xbc\\\\x97\\\\xe5\\\\x8d\\\\x94\\\\xe9\\\\x80\\\\xb2\\\\xe6\\\\x9c\\\\x83\\\\xef\\\\xbc\\\\x88\\\\xe4\\\\xb8\\\\xbb\\\\xe8\\\\xa6\\\\x81\\\\xe5\\\\x80\\\\x99\\\\xe9\\\\x81\\\\xb8\\\\xe4\\\\xba\\\\xba\\\\xef\\\\xbc\\\\x9a': \"Macau Citizens Development Association (ACDM)\",\n",
    "'Union for Development \\\\xe5\\\\x90\\\\x8c\\\\xe5\\\\xbf\\\\x83\\\\xe5\\\\x8d\\\\x94\\\\xe9\\\\x80\\\\xb2\\\\xe6\\\\x9c\\\\x83\\\\xef\\\\xbc\\\\x88\\\\xe4\\\\xb8\\\\xbb\\\\xe8\\\\xa6\\\\x81\\\\xe5\\\\x80\\\\x99\\\\xe9\\\\x81\\\\xb8\\\\xe4\\\\xba\\\\xba\\\\xef\\\\xbc\\\\x9a\\\\xe6\\\\x9d\\\\x8e\\\\xe9\\\\x9d\\\\x9c\\\\xe5\\\\x84\\\\x80\\\\xef\\\\xbc\\\\x89': 'Union for Development',\n",
    "'Ou Mun Kong I (OMKI) \\\\xe6\\\\xbe\\\\xb3\\\\xe9\\\\x96\\\\x80\\\\xe5\\\\x85\\\\xac\\\\xe7\\\\xbe\\\\xa9 \\\\xef\\\\xbc\\\\x88\\\\xe4\\\\xb8\\\\xbb\\\\xe8\\\\xa6\\\\x81\\\\xe5\\\\x80\\\\x99\\\\xe9\\\\x81\\\\xb8\\\\xe4\\\\xba\\\\xba\\\\xef\\\\xbc\\\\x9a\\\\xe6\\\\x9d\\\\x8e\\\\xe5\\\\xb0\\\\x91\\\\xe5\\\\x9d\\\\xa4\\\\xef\\\\xbc\\\\x89':'Ou Mun Kong I (OMKI)',\n",
    "'Pearl Horizon Buyers\\\\xe2\\\\x80\\\\x99 Rights Defence Union (UPHDD) \\\\xe6\\\\xb5\\\\xb7\\\\xe4\\\\xb8\\\\x80\\\\xe5\\\\xb1\\\\x85\\\\xe6\\\\xa5\\\\xad\\\\xe4\\\\xb8\\\\xbb\\\\xe7\\\\xb6\\\\xad\\\\xe6\\\\xac\\\\x8a\\\\xe8\\\\x81\\\\xaf\\\\xe7\\\\x9b\\\\x9f\\\\xef\\\\xbc\\\\x88\\\\xe4\\\\xb8\\\\xbb\\\\xe8\\\\xa6\\\\x81':'Pearl Horizon Buyers Rights Defence Union (UPHDD)',\n",
    "'Alliance for a Happy Home (ABL) \\\\xe7\\\\xbe\\\\x8e\\\\xe5\\\\xa5\\\\xbd\\\\xe5\\\\xae\\\\xb6\\\\xe5\\\\x9c\\\\x92\\\\xe8\\\\x81\\\\xaf\\\\xe7\\\\x9b\\\\x9f\\\\xef\\\\xbc\\\\x88\\\\xe4\\\\xb8\\\\xbb\\\\xe8\\\\xa6\\\\x81\\\\xe5\\\\x80\\\\x99\\\\xe9\\\\x81\\\\xb8\\\\xe4\\\\xba\\\\xba\\\\xef\\\\xbc\\\\x9a\\\\xe9\\\\xbb\\\\x83\\\\xe6\\\\xbd\\\\x94\\\\xe8\\\\xb2\\\\x9e\\\\xef\\\\xbc\\\\x89':'Alliance for a Happy Home (ABL)',\n",
    "'Citizens\\\\xe2\\\\x80\\\\x99 Power (PC) \\\\xe5\\\\xb8\\\\x82\\\\xe6\\\\xb0\\\\x91\\\\xe5\\\\x8a\\\\x9b\\\\xe9\\\\x87\\\\x8f\\\\xef\\\\xbc\\\\x88\\\\xe4\\\\xb8\\\\xbb\\\\xe8\\\\xa6\\\\x81\\\\xe5\\\\x80\\\\x99\\\\xe9\\\\x81\\\\xb8\\\\xe4\\\\xba\\\\xba\\\\xef\\\\xbc\\\\x9a\\\\xe6\\\\x96\\\\xbd\\\\xe5\\\\x88\\\\xa9\\\\xe4\\\\xba\\\\x9e\\\\xef\\\\xbc\\\\x89':\"Citizens Power (PC)\",\n",
    "'The Aurora of Grassroots (Aurora) \\\\xe5\\\\x9f\\\\xba\\\\xe5\\\\xb1\\\\xa4\\\\xe4\\\\xb9\\\\x8b\\\\xe5\\\\x85\\\\x89\\\\xef\\\\xbc\\\\x88\\\\xe4\\\\xb8\\\\xbb\\\\xe8\\\\xa6\\\\x81\\\\xe5\\\\x80\\\\x99\\\\xe9\\\\x81\\\\xb8\\\\xe4\\\\xba\\\\xba\\\\xef\\\\xbc\\\\x9a\\\\xe6\\\\x9e\\\\x97\\\\xe5\\\\x81\\\\x89\\\\xe9\\\\xa7\\\\x92\\\\xef\\\\xbc\\\\x89':\"The Aurora of Grassroots (Aurora)\",\n",
    "'Synergy Power\\\\xc2\\\\xa0 \\\\xe5\\\\x82\\\\xb3\\\\xe6\\\\x96\\\\xb0\\\\xe5\\\\x8a\\\\x9b\\\\xe9\\\\x87\\\\x8f\\\\xef\\\\xbc\\\\x88\\\\xe4\\\\xb8\\\\xbb\\\\xe8\\\\xa6\\\\x81\\\\xe5\\\\x80\\\\x99\\\\xe9\\\\x81\\\\xb8\\\\xe4\\\\xba\\\\xba\\\\xef\\\\xbc\\\\x9a\\\\xe6\\\\x9e\\\\x97\\\\xe5\\\\xae\\\\x87\\\\xe6\\\\xbb\\\\x94\\\\xef\\\\xbc\\\\x89':\"Synergy Power\",\n",
    "'Association of Macau Activism for Democracy (ID) \\\\xe6\\\\xb0\\\\x91\\\\xe4\\\\xb8\\\\xbb\\\\xe8\\\\xb5\\\\xb7\\\\xe5\\\\x8b\\\\x95\\\\xef\\\\xbc\\\\x88\\\\xe4\\\\xb8\\\\xbb\\\\xe8\\\\xa6\\\\x81\\\\xe5\\\\x80\\\\x99\\\\xe9\\\\x81\\\\xb8\\\\xe4\\\\xba\\\\xba\\\\xef\\\\xbc\\\\x9a\\\\xe5\\\\x88\\\\xa9\\\\xe5\\\\xbb\\\\xba\\\\xe6\\\\xbd\\\\xa4':\"Association of Macau Activism for Democracy (ID)\",\n",
    "'Powers of Political Thought (PPP) \\\\xe6\\\\x80\\\\x9d\\\\xe6\\\\x94\\\\xbf\\\\xe5\\\\x8b\\\\x95\\\\xe5\\\\x8a\\\\x9b\\\\xef\\\\xbc\\\\x88\\\\xe4\\\\xb8\\\\xbb\\\\xe8\\\\xa6\\\\x81\\\\xe5\\\\x80\\\\x99\\\\xe9\\\\x81\\\\xb8\\\\xe4\\\\xba\\\\xba\\\\xef\\\\xbc\\\\x9a\\\\xe8\\\\x91\\\\x9b\\\\xe8\\\\x90\\\\xac\\\\xe9\\\\x87\\\\x91\\\\xef\\\\xbc\\\\x89':\"Powers of Political Thought (PPP)\",\n",
    "'Partido de la Revolucion Democr\\\\xc3\\\\xa1tica':'Partido de la Revolucion Democratica',\n",
    "'Coalici\\\\xc3\\\\xb3n PRI-PVEM\\\\xc2\\\\xa0':'Coalicin PRI-PVEM',   \n",
    "'Pakistan People\\\\xe2\\\\x80\\\\x99s Party':'Pakistan Peoples Party',\n",
    "'Nationalist People\\\\xe2\\\\x80\\\\x99s Coalition':'Nationalist Peoples Coalition',\n",
    "'People\\\\xe2\\\\x80\\\\x99 Progressive Party Zimbabwe':'People Progressive Party Zimbabwe',\n",
    "'Alliance for the People\\\\xe2\\\\x80\\\\x99s Agenda':'Alliance for the Peoples Agenda',\n",
    "'Green Party\\\\xc2\\\\xa0':'Green Party',\n",
    "\"Republican People's Party\\\\xc2\\\\xa0\":\"Republican People's Party\",\n",
    "'People\\\\xe2\\\\x80\\\\x99s Democratic Party':'People Democratic Party'}\n",
    "\n",
    "Partyabb_dict={'': np.nan, 'GR\\\\xc3\\\\x9cNE': 'Greene' }\n",
    "\n",
    "CPARTY_dict={\n",
    "'': np.nan, 'DEU_ Alternative for Germany\\\\xc2\\\\xa0': 'DEU_ Alternative for Germany',\n",
    "'DEU_ Free Democratic Party\\\\xc2\\\\xa0':'DEU_ Free Democratic Party',\n",
    "'JPN_ Komeit\\\\xc5\\\\x8d':'JPN_ Komeit', \n",
    "'MEX_ Partido de la Revolucion Democr\\\\xc3\\\\xa1tica':'MEX_ Partido de la Revolucion Democratica',\n",
    "'MEX_ Coalici\\\\xc3\\\\xb3n PRI-PVEM\\\\xc2\\\\xa0':'MEX_ Coalicin PRI-PVEM',\n",
    "'PAK_ Pakistan People\\\\xe2\\\\x80\\\\x99s Party':'PAK_ Pakistan Peoples Party',\n",
    "'PHL_ Nationalist People\\\\xe2\\\\x80\\\\x99s Coalition':'PHL_ Nationalist Peoples Coalition',\n",
    "\"TUR_ Republican People's Party\\\\xc2\\\\xa0\":\"TUR_ Republican People's Party\",\n",
    "'TUR_ People\\\\xe2\\\\x80\\\\x99s Democratic Party':'TUR_ Peoples Democratic Party'}\n",
    "\n",
    "CPARTYABB_dict={\n",
    "'': np.nan, 'DEU_ GR\\\\xc3\\\\x9cNE': 'DEU_ GRUENE'}"
   ]
  },
  {
   "cell_type": "code",
   "execution_count": 6,
   "metadata": {},
   "outputs": [],
   "source": [
    "def change(x, dict1):\n",
    "    if x in dict1.keys():\n",
    "        x=dict1[x]\n",
    "    return x\n",
    "\n",
    "df1['Partyname']=df1[\"Partyname\"].map(lambda x: change(x, Partyname_dict))\n",
    "df1['Partyabb']=df1[\"Partyabb\"].map(lambda x: change(x, Partyabb_dict))\n",
    "df1['CPARTY']=df1[\"CPARTY\"].map(lambda x: change(x, CPARTY_dict))\n",
    "df1['CPARTYABB']=df1[\"CPARTYABB\"].map(lambda x: change(x, CPARTYABB_dict))\n",
    "\n",
    "df1_cat=df1.select_dtypes(exclude=\"number\")"
   ]
  },
  {
   "cell_type": "code",
   "execution_count": 7,
   "metadata": {},
   "outputs": [],
   "source": [
    "df1.to_csv(path+\"Machiene_Learning_Data3.csv\")"
   ]
  },
  {
   "cell_type": "code",
   "execution_count": null,
   "metadata": {},
   "outputs": [],
   "source": []
  }
 ],
 "metadata": {
  "kernelspec": {
   "display_name": "Python 3",
   "language": "python",
   "name": "python3"
  },
  "language_info": {
   "codemirror_mode": {
    "name": "ipython",
    "version": 3
   },
   "file_extension": ".py",
   "mimetype": "text/x-python",
   "name": "python",
   "nbconvert_exporter": "python",
   "pygments_lexer": "ipython3",
   "version": "3.7.6"
  }
 },
 "nbformat": 4,
 "nbformat_minor": 4
}
